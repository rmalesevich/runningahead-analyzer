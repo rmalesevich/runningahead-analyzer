{
 "cells": [
  {
   "cell_type": "markdown",
   "metadata": {},
   "source": [
    "# Download the ZIP File from RunningAHEAD\n",
    "\n",
    "The Export function is available only when logged into the RunningAHEAD website.\n",
    "\n",
    "This block uses Selenium with the chromedriver. Ensure that the .env file contains the values for your username, password, ID, and name.\n",
    "\n",
    "The file will download to the ~/Downloads folder as name.tab.zip."
   ]
  },
  {
   "cell_type": "code",
   "execution_count": 1,
   "metadata": {},
   "outputs": [],
   "source": [
    "import os\n",
    "import time\n",
    "from selenium import webdriver\n",
    "from selenium.webdriver.common.by import By\n",
    "\n",
    "options = webdriver.ChromeOptions()\n",
    "options.add_argument(\"--headless\")\n",
    "driver = webdriver.Chrome(options=options)\n",
    "\n",
    "driver.get(\"https://www.runningahead.com/\")\n",
    "\n",
    "driver.find_element(By.ID, \"ctl00_ctl00_ctl00_SiteContent_PageContent_MainContent_email\").send_keys(os.getenv(\"RA_USER\"))\n",
    "driver.find_element(By.ID, \"ctl00_ctl00_ctl00_SiteContent_PageContent_MainContent_password\").send_keys(os.getenv(\"RA_PASS\"))\n",
    "driver.find_element(By.ID, \"ctl00_ctl00_ctl00_SiteContent_PageContent_MainContent_login_s\").click()\n",
    "\n",
    "driver.get(\"https://www.runningahead.com/logs/\" + os.getenv(\"RA_ID\") + \"/tools/export\")\n",
    "\n",
    "driver.find_element(By.ID, \"ctl00_ctl00_ctl00_SiteContent_PageContent_TrainingLogContent_Download_s\").click()\n",
    "\n",
    "time.sleep(10)\n",
    "\n",
    "driver.quit()"
   ]
  },
  {
   "cell_type": "code",
   "execution_count": 2,
   "metadata": {},
   "outputs": [],
   "source": [
    "import zipfile\n",
    "import csv\n",
    "\n",
    "expected_file = os.getenv(\"RA_FOLDER\") + os.getenv(\"RA_NAME\") + \".tab.zip\"\n",
    "with zipfile.ZipFile(expected_file, 'r') as zip_ref:\n",
    "    zip_ref.extractall(os.getenv(\"RA_FOLDER\") + \"runningahead-logs/\")\n",
    "\n",
    "log_file = os.getenv(\"RA_FOLDER\") + \"runningahead-logs/log.txt\"\n",
    "\n",
    "with open(log_file, \"r\") as f:\n",
    "    lines = f.readlines()\n",
    "\n",
    "# The original file has an extra tab that messes up everything\n",
    "new_header = \"Date\tTimeOfDay\tType\tSubType\tDistance\tDistanceUnit\tDuration\tWeight\tWeightUnit\tRestHR\tAvgHR\tMaxHR\tSleep\tCalories\tQuality\tEffort\tWeather\tTemperature\tTempUnit\tNotes\tCourse\tCourseSurface\tCourseNotes\tShoeMake\tShoeModel\tSize\tSystem\tShoeSerial\tShoePrice\tOverallPlace\tFieldSize\tGroupMinAge\tGroupMaxAge\tGroupPlace\tGroupSize\tGenderPlace\tGenderSize\\n\"\n",
    "\n",
    "with open(log_file, \"w\") as f:\n",
    "    f.write(new_header)\n",
    "\n",
    "    count = 0\n",
    "    for line in lines:\n",
    "        if count > 0:\n",
    "            f.write(line + \"\\n\")\n",
    "        count = count + 1"
   ]
  },
  {
   "cell_type": "code",
   "execution_count": 3,
   "metadata": {},
   "outputs": [],
   "source": [
    "import duckdb\n",
    "\n",
    "connection = duckdb.connect(database=':memory:')\n",
    "\n",
    "log = connection.read_csv(log_file)"
   ]
  },
  {
   "cell_type": "code",
   "execution_count": 4,
   "metadata": {},
   "outputs": [],
   "source": [
    "# Create a conversion table so everything can be converted through SQL\n",
    "conversion = connection.sql(\"\"\"\n",
    "    SELECT 'Mile' AS Unit, 1 AS ConversionFactor\n",
    "    UNION\n",
    "    SELECT 'Kilometer' AS Unit, 0.6213712 AS ConversionFactor\n",
    "    UNION\n",
    "    SELECT 'Meter' AS Unit, 0.0006213712 AS ConversionFactor\n",
    "\"\"\")"
   ]
  },
  {
   "cell_type": "code",
   "execution_count": 5,
   "metadata": {},
   "outputs": [],
   "source": [
    "streak_log = connection.sql(\"\"\"\n",
    "    WITH convert_to_miles AS (\n",
    "        SELECT\n",
    "            l.Date\n",
    "            , l.Distance * c.ConversionFactor AS DistanceMiles\n",
    "        FROM log AS l\n",
    "        INNER JOIN conversion AS c ON l.DistanceUnit = c.Unit\n",
    "        WHERE Type = 'Run'\n",
    "    ), aggregated_log AS ( \n",
    "        SELECT\n",
    "            Date\n",
    "            , SUM(DistanceMiles) AS Distance\n",
    "        FROM convert_to_miles\n",
    "        GROUP BY\n",
    "            Date\n",
    "    ), streak_groups AS (\n",
    "        SELECT\n",
    "            Date\n",
    "            , Distance\n",
    "            , CASE\n",
    "                WHEN Date - 1 = LAG(Date) OVER (ORDER BY Date) AND Distance >= 1 THEN 0\n",
    "                ELSE 1\n",
    "            END AS StreakBreak\n",
    "        FROM aggregated_log\n",
    "    ), grouped_log AS (\n",
    "        SELECT\n",
    "            Date\n",
    "            , Distance\n",
    "            , SUM(StreakBreak) OVER (ORDER BY Date) AS StreakGroup\n",
    "        FROM streak_groups\n",
    "    )\n",
    "    SELECT\n",
    "        Date\n",
    "        , Distance\n",
    "        , StreakGroup\n",
    "        , ROW_NUMBER() OVER (PARTITION BY StreakGroup ORDER BY Date) AS Streak\n",
    "    FROM grouped_log\n",
    "    ORDER BY Date;\n",
    "\"\"\")"
   ]
  },
  {
   "cell_type": "code",
   "execution_count": 6,
   "metadata": {},
   "outputs": [
    {
     "data": {
      "text/plain": [
       "┌─────────────┬───────────────────┬───────────────────┬────────────────┬────────────┐\n",
       "│ StreakGroup │ min_day_of_streak │ max_day_of_streak │ total_distance │ total_days │\n",
       "│   int128    │       date        │       date        │     double     │   int64    │\n",
       "├─────────────┼───────────────────┼───────────────────┼────────────────┼────────────┤\n",
       "│         134 │ 2011-08-31        │ 2012-04-26        │        1089.79 │        240 │\n",
       "│         858 │ 2024-08-19        │ 2024-11-20        │          380.0 │         94 │\n",
       "│         406 │ 2017-08-27        │ 2017-11-25        │         375.12 │         91 │\n",
       "│         470 │ 2018-11-12        │ 2019-02-08        │         338.14 │         89 │\n",
       "│         249 │ 2013-09-21        │ 2013-10-09        │          97.47 │         19 │\n",
       "│         596 │ 2020-10-18        │ 2020-11-05        │         135.17 │         19 │\n",
       "│         857 │ 2024-07-29        │ 2024-08-14        │          55.78 │         17 │\n",
       "│         294 │ 2014-06-29        │ 2014-07-14        │           59.7 │         16 │\n",
       "│         471 │ 2019-02-11        │ 2019-02-26        │          73.33 │         16 │\n",
       "│         317 │ 2015-03-30        │ 2015-04-12        │          39.08 │         14 │\n",
       "│         586 │ 2020-07-31        │ 2020-08-13        │          88.26 │         14 │\n",
       "│         223 │ 2013-05-04        │ 2013-05-16        │           94.8 │         13 │\n",
       "│         605 │ 2021-01-05        │ 2021-01-17        │         100.07 │         13 │\n",
       "│         614 │ 2021-03-11        │ 2021-03-23        │          85.11 │         13 │\n",
       "│         216 │ 2013-04-01        │ 2013-04-11        │          57.22 │         11 │\n",
       "│         604 │ 2020-12-24        │ 2021-01-03        │          67.45 │         11 │\n",
       "├─────────────┴───────────────────┴───────────────────┴────────────────┴────────────┤\n",
       "│ 16 rows                                                                 5 columns │\n",
       "└───────────────────────────────────────────────────────────────────────────────────┘"
      ]
     },
     "execution_count": 6,
     "metadata": {},
     "output_type": "execute_result"
    }
   ],
   "source": [
    "connection.sql(\"\"\"\n",
    "    SELECT\n",
    "        StreakGroup\n",
    "        , MIN(Date) AS min_day_of_streak\n",
    "        , MAX(Date) AS max_day_of_streak\n",
    "        , ROUND(SUM(Distance), 2) AS total_distance\n",
    "        , MAX(Streak) AS total_days\n",
    "    FROM streak_log\n",
    "    GROUP BY\n",
    "        StreakGroup\n",
    "    HAVING total_days > 10\n",
    "    ORDER BY total_days DESC, min_day_of_streak ASC\n",
    "\"\"\")"
   ]
  },
  {
   "cell_type": "code",
   "execution_count": 7,
   "metadata": {},
   "outputs": [],
   "source": [
    "import shutil\n",
    "\n",
    "# clean up the ZIP file\n",
    "os.remove(expected_file)\n",
    "\n",
    "# clean up the extracted files\n",
    "files = os.getenv(\"RA_FOLDER\") + \"runningahead-logs/\"\n",
    "shutil.rmtree(files)"
   ]
  }
 ],
 "metadata": {
  "kernelspec": {
   "display_name": "venv",
   "language": "python",
   "name": "python3"
  },
  "language_info": {
   "codemirror_mode": {
    "name": "ipython",
    "version": 3
   },
   "file_extension": ".py",
   "mimetype": "text/x-python",
   "name": "python",
   "nbconvert_exporter": "python",
   "pygments_lexer": "ipython3",
   "version": "3.12.4"
  }
 },
 "nbformat": 4,
 "nbformat_minor": 2
}
